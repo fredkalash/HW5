{
 "cells": [
  {
   "cell_type": "code",
   "execution_count": 1,
   "metadata": {},
   "outputs": [],
   "source": [
    "import numpy as np\n"
   ]
  },
  {
   "cell_type": "code",
   "execution_count": 19,
   "metadata": {},
   "outputs": [
    {
     "data": {
      "text/plain": [
       "'\\nProblem 2 (Inventory management problem) An inventory manager has the following policy.\\nAs long as there are 5 units in inventory, there is no need to order extra items. Demand arrives\\naccording to a Poisson process with rate μ (meaning customers come and ask for the product every\\nexp(μ) time). As soon as the first customer takes a product (and inventory falls to 4), the inventory\\nmanager calls the supplier. The delivery time is random: the supplier will show up within an exp(l)\\namount of time. When the supplier show up, the inventory will be replenished to bring it back to\\n5. Of course, if the inventory is empty, arriving customers leave empty handed.\\n'"
      ]
     },
     "execution_count": 19,
     "metadata": {},
     "output_type": "execute_result"
    }
   ],
   "source": [
    "\"\"\"\n",
    "Problem 2 (Inventory management problem) An inventory manager has the following policy.\n",
    "As long as there are 5 units in inventory, there is no need to order extra items. Demand arrives\n",
    "according to a Poisson process with rate μ (meaning customers come and ask for the product every\n",
    "exp(μ) time). As soon as the first customer takes a product (and inventory falls to 4), the inventory\n",
    "manager calls the supplier. The delivery time is random: the supplier will show up within an exp(l)\n",
    "amount of time. When the supplier show up, the inventory will be replenished to bring it back to\n",
    "5. Of course, if the inventory is empty, arriving customers leave empty handed.\n",
    "\"\"\""
   ]
  },
  {
   "cell_type": "code",
   "execution_count": 21,
   "metadata": {},
   "outputs": [
    {
     "data": {
      "text/plain": [
       "'\\nP(A <= B) = La / (La+Lb)\\n\\nLet inventory state be 0 (no items) to 5 units (full)\\n\\nTransition matrix:\\n\\n[[0,       0,       0,       0,       0,       l/(l+m)],\\n [m/(l+m), 0,       0,       0,       0,       l/(l+m)],\\n [0,       m/(l+m), 0,       0,       0,       l/(l+m)],\\n [0,       0,       m/(l+m), 0,       0,       l/(l+m)], \\n [0,       0,       0,       m/(l+m), 0,       l/(l+m)],  \\n [0,       0,       0,       0,       m/(l+m), 0]]\\n'"
      ]
     },
     "execution_count": 21,
     "metadata": {},
     "output_type": "execute_result"
    }
   ],
   "source": [
    "#a. Build a CTMC with 6 states that models the inventory evolution.\n",
    "\n",
    "\"\"\"\n",
    "P(A <= B) = La / (La+Lb)\n",
    "\n",
    "Let inventory state be 0 (no items) to 5 units (full)\n",
    "\n",
    "Transition matrix:\n",
    "\n",
    "[[0,       0,       0,       0,       0,       l/(l+m)],\n",
    " [m/(l+m), 0,       0,       0,       0,       l/(l+m)],\n",
    " [0,       m/(l+m), 0,       0,       0,       l/(l+m)],\n",
    " [0,       0,       m/(l+m), 0,       0,       l/(l+m)], \n",
    " [0,       0,       0,       m/(l+m), 0,       l/(l+m)],  \n",
    " [0,       0,       0,       0,       m/(l+m), 0]]\n",
    "\"\"\"\n"
   ]
  },
  {
   "cell_type": "code",
   "execution_count": 24,
   "metadata": {},
   "outputs": [
    {
     "data": {
      "text/plain": [
       "'\\nb. Say we start at 4 and the manager just called the supplier. What is the expected time until\\nwe either go back to 5 (the supplier arrives) or we go down to 3 (another customer takes an\\nitem).\\n\\nmin of two indep rv. exp with rate l and rate m is  exponential with rate l+m\\n\\nexpected value of exponential rv is 1/rate \\nso answer is 1/(l+m)\\nwhere delivery time is exp(l) and customer time is exp(m) and these are independent\\n\\n'"
      ]
     },
     "execution_count": 24,
     "metadata": {},
     "output_type": "execute_result"
    }
   ],
   "source": [
    "\"\"\"\n",
    "b. Say we start at 4 and the manager just called the supplier. What is the expected time until\n",
    "we either go back to 5 (the supplier arrives) or we go down to 3 (another customer takes an\n",
    "item).\n",
    "\n",
    "min of two indep rv. exp with rate l and rate m is  exponential with rate l+m\n",
    "\n",
    "expected value of exponential rv is 1/rate \n",
    "so answer is 1/(l+m)\n",
    "where delivery time is exp(l) and customer time is exp(m) and these are independent\n",
    "\n",
    "\"\"\""
   ]
  },
  {
   "cell_type": "code",
   "execution_count": 26,
   "metadata": {},
   "outputs": [
    {
     "data": {
      "text/plain": [
       "'\\nc. Say, now, we start at 5. What is the expected time until we run out of inventory and start\\ndisappointing customers?\\n\\ngiven indep:\\n\\n5*(1/(l+m) * m/(l+m)) \\n\\ntest this via simulation\\n\\n\\n'"
      ]
     },
     "execution_count": 26,
     "metadata": {},
     "output_type": "execute_result"
    }
   ],
   "source": [
    "\"\"\"\n",
    "c. Say, now, we start at 5. What is the expected time until we run out of inventory and start\n",
    "disappointing customers?\n",
    "\n",
    "given indep:\n",
    "\n",
    "5*( (1/m) * m/(l+m)) \n",
    "\n",
    "test this via simulation\n",
    "\n",
    "\n",
    "\"\"\""
   ]
  },
  {
   "cell_type": "code",
   "execution_count": null,
   "metadata": {},
   "outputs": [],
   "source": [
    "\"\"\"\n",
    "d. In the long-run, what is the fraction of time that arriving customers will be leaving empty-\n",
    "handed (no inventory).\n",
    "Part d. does not rely on parts b. and c.\n",
    "\n",
    "\n",
    "\n",
    "\n",
    "\n",
    "\"\"\""
   ]
  },
  {
   "cell_type": "code",
   "execution_count": null,
   "metadata": {},
   "outputs": [],
   "source": []
  },
  {
   "cell_type": "code",
   "execution_count": 13,
   "metadata": {},
   "outputs": [
    {
     "name": "stdout",
     "output_type": "stream",
     "text": [
      "653\n"
     ]
    }
   ],
   "source": [
    "#v2_gr_v1_list = []\n",
    "count = 0\n",
    "for j in range(1000):\n",
    "    v1 = np.random.exponential(scale=1, size=None)\n",
    "    v2 = np.random.exponential(scale=2, size=None)\n",
    "    if v2 > v1:\n",
    "        count += 1\n",
    "\n",
    "print(count)\n",
    "        \n"
   ]
  },
  {
   "cell_type": "code",
   "execution_count": 14,
   "metadata": {},
   "outputs": [
    {
     "data": {
      "text/plain": [
       "0.69"
      ]
     },
     "execution_count": 14,
     "metadata": {},
     "output_type": "execute_result"
    }
   ],
   "source": [
    "690/1000"
   ]
  },
  {
   "cell_type": "code",
   "execution_count": 12,
   "metadata": {},
   "outputs": [],
   "source": [
    "#https://math.stackexchange.com/questions/1332413/comparing-two-exponential-random-variables"
   ]
  },
  {
   "cell_type": "code",
   "execution_count": 15,
   "metadata": {},
   "outputs": [
    {
     "data": {
      "text/plain": [
       "0.6666666666666666"
      ]
     },
     "execution_count": 15,
     "metadata": {},
     "output_type": "execute_result"
    }
   ],
   "source": [
    "2/3"
   ]
  },
  {
   "cell_type": "code",
   "execution_count": 17,
   "metadata": {},
   "outputs": [],
   "source": [
    "# P(A<=B) = La/ (La+Lb)"
   ]
  },
  {
   "cell_type": "code",
   "execution_count": 18,
   "metadata": {},
   "outputs": [],
   "source": [
    "#https://math.stackexchange.com/questions/580279/how-to-prove-that-minimum-of-two-exponential-random-variables-is-another-exponen\n",
    "# min of two indep rv. exp (La + Lb)\n",
    "# expected value of exp(m) = 1/m\n",
    "# so 1/(m+l)"
   ]
  },
  {
   "cell_type": "code",
   "execution_count": null,
   "metadata": {},
   "outputs": [],
   "source": []
  }
 ],
 "metadata": {
  "kernelspec": {
   "display_name": "Python 3",
   "language": "python",
   "name": "python3"
  },
  "language_info": {
   "codemirror_mode": {
    "name": "ipython",
    "version": 3
   },
   "file_extension": ".py",
   "mimetype": "text/x-python",
   "name": "python",
   "nbconvert_exporter": "python",
   "pygments_lexer": "ipython3",
   "version": "3.8.3"
  }
 },
 "nbformat": 4,
 "nbformat_minor": 4
}
